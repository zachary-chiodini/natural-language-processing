{
 "cells": [
  {
   "cell_type": "markdown",
   "metadata": {},
   "source": [
    "<h1>Regular Expressions</h1>\n",
    "<hr>"
   ]
  },
  {
   "cell_type": "markdown",
   "metadata": {},
   "source": [
    "This notebook provides introductory notes on regular expressions with examples, using Python's \"re\" library."
   ]
  },
  {
   "cell_type": "code",
   "execution_count": 1,
   "metadata": {},
   "outputs": [],
   "source": [
    "import re"
   ]
  },
  {
   "cell_type": "code",
   "execution_count": 2,
   "metadata": {},
   "outputs": [],
   "source": [
    "def search( pattern, string, flag = 0 ) :\n",
    "    '''\n",
    "    Helper function to display match objects more gracefully\n",
    "    '''\n",
    "    i = 0\n",
    "    for match in re.finditer( pattern, string, flag ) :\n",
    "        print( i*', ' + match.group(), end = '' )\n",
    "        i = 1\n",
    "    return"
   ]
  },
  {
   "cell_type": "code",
   "execution_count": 3,
   "metadata": {},
   "outputs": [],
   "source": [
    "string = '''ProximaProxima Centauri b is an exoplanet orbiting in the habitable zone of the red dwarf star Proxima Centauri, \n",
    "which is the closest star to the Sun and part of a triple star system.\n",
    "It is approximately 4.2 light-years (4.0x10^13 km) from Earth in the constellation Centaurus, \n",
    "making it one of the closest known exoplanets to the Solar System.\n",
    "On 24 August 2016, a team of 31 scientists confirmed the existence of Proxima Centauri b.'''"
   ]
  },
  {
   "cell_type": "markdown",
   "metadata": {},
   "source": [
    "<h2>Basic Patterns</h2>\n",
    "<hr>"
   ]
  },
  {
   "cell_type": "markdown",
   "metadata": {},
   "source": [
    "(1) <b>Brackets</b> <span style=\"color:blue; font-weight:bold\">[ ]</span> specify a disjunction of characters."
   ]
  },
  {
   "cell_type": "code",
   "execution_count": 4,
   "metadata": {},
   "outputs": [
    {
     "name": "stdout",
     "output_type": "stream",
     "text": [
      "system, System"
     ]
    }
   ],
   "source": [
    "search( '[Ss]ystem', string ) # Matches \"S\" or \"s\" followed by \"ystem\""
   ]
  },
  {
   "cell_type": "markdown",
   "metadata": {},
   "source": [
    "(2) <b>Brackets</b> <span style=\"color:blue; font-weight:bold\">[ ]</span> plus a <b>Dash</b> <span style=\"color:blue; font-weight:bold\">-</span> specifies a range."
   ]
  },
  {
   "cell_type": "code",
   "execution_count": 5,
   "metadata": {},
   "outputs": [
    {
     "name": "stdout",
     "output_type": "stream",
     "text": [
      "4, 2, 4, 0, 1, 0, 1, 3, 2, 4, 2, 0, 1, 6, 3, 1"
     ]
    }
   ],
   "source": [
    "search( '[0-9]', string ) # Matches any single digit integer from one to 5 inclusive"
   ]
  },
  {
   "cell_type": "markdown",
   "metadata": {},
   "source": [
    "(3) <b>Brackets</b> <span style=\"color:blue; font-weight:bold\">[ ]</span> plus a <b>Caret</b> <span style=\"color:blue; font-weight:bold\">ˆ</span> specifies negation."
   ]
  },
  {
   "cell_type": "code",
   "execution_count": 6,
   "metadata": {},
   "outputs": [
    {
     "name": "stdout",
     "output_type": "stream",
     "text": [
      "4, 2, 4, 0, 1, 0, 1, 3, 2, 4, 2, 0, 1, 6, 3, 1"
     ]
    }
   ],
   "source": [
    "                                       # Matches not a letter, next line character, comma, period, \n",
    "search( '[^a-zA-Z\\n,.()^ -]', string ) # paranthesis, caret, space or hyphen"
   ]
  },
  {
   "cell_type": "markdown",
   "metadata": {},
   "source": [
    "(4) A <b>Question Mark</b> <span style=\"color:blue; font-weight:bold\">?</span> specifies optionality."
   ]
  },
  {
   "cell_type": "code",
   "execution_count": 7,
   "metadata": {},
   "outputs": [
    {
     "name": "stdout",
     "output_type": "stream",
     "text": [
      "exoplanet, exoplanets"
     ]
    }
   ],
   "source": [
    "search( 'exoplanets?', string ) # Matches \"exoplanet\" followes by an \"s\" or nothing"
   ]
  },
  {
   "cell_type": "markdown",
   "metadata": {},
   "source": [
    "(5) A <b>Period</b> <span style=\"color:blue; font-weight:bold\">.</span> is a wildcard."
   ]
  },
  {
   "cell_type": "code",
   "execution_count": 8,
   "metadata": {},
   "outputs": [
    {
     "name": "stdout",
     "output_type": "stream",
     "text": [
      "Sun, Sol, Sys"
     ]
    }
   ],
   "source": [
    "search( 'S..', string ) # Matches \"S\" followed by two wildcards"
   ]
  },
  {
   "cell_type": "markdown",
   "metadata": {},
   "source": [
    "(6) A <b>Backslash</b> <span style=\"color:blue; font-weight:bold\">\\\\</span> before a period refers to an actual period."
   ]
  },
  {
   "cell_type": "code",
   "execution_count": 9,
   "metadata": {},
   "outputs": [
    {
     "name": "stdout",
     "output_type": "stream",
     "text": [
      "4.2, 4.0"
     ]
    }
   ],
   "source": [
    "search( '[0-9]\\.[0-9]', string )"
   ]
  },
  {
   "cell_type": "markdown",
   "metadata": {},
   "source": [
    "(7) An <b>Asterix</b> <span style=\"color:blue; font-weight:bold\">*</span> specifies zero or more occurrences."
   ]
  },
  {
   "cell_type": "code",
   "execution_count": 10,
   "metadata": {},
   "outputs": [
    {
     "name": "stdout",
     "output_type": "stream",
     "text": [
      "4, 2, 4, 0, 10, 13, 24, 2016, 31"
     ]
    }
   ],
   "source": [
    "search( '[0-9][0-9]*', string ) # Matches any integer followed by zero or more integers"
   ]
  },
  {
   "cell_type": "markdown",
   "metadata": {},
   "source": [
    "(8) A <b>Plus Sign</b> <span style=\"color:blue; font-weight:bold\">+</span> specifies one or more occurrences."
   ]
  },
  {
   "cell_type": "code",
   "execution_count": 11,
   "metadata": {},
   "outputs": [
    {
     "name": "stdout",
     "output_type": "stream",
     "text": [
      "4, 2, 4, 0, 10, 13, 24, 2016, 31"
     ]
    }
   ],
   "source": [
    "search( '[0-9]+', string ) # Matches one or more occurrences of any integer"
   ]
  },
  {
   "cell_type": "markdown",
   "metadata": {},
   "source": [
    "(9) A <b>Peroid</b> <span style=\"color:blue; font-weight:bold\">.</span> plus an <b>Asterix</b> <span style=\"color:blue; font-weight:bold\">*</span> specifies a string of wildcard characters of indefenite length."
   ]
  },
  {
   "cell_type": "code",
   "execution_count": 12,
   "metadata": {},
   "outputs": [
    {
     "name": "stdout",
     "output_type": "stream",
     "text": [
      "(4.0x10^13 km)"
     ]
    }
   ],
   "source": [
    "search( '\\(.*\\)', string ) # Matches any character string enclosed in paranthesis"
   ]
  },
  {
   "cell_type": "markdown",
   "metadata": {},
   "source": [
    "(10) A <b>Caret</b> <span style=\"color:blue; font-weight:bold\">^</span> and a <b>Dollar Sign</b> <span style=\"color:blue; font-weight:bold\">$</span> specifies the start and end of a line respectively."
   ]
  },
  {
   "cell_type": "code",
   "execution_count": 13,
   "metadata": {},
   "outputs": [
    {
     "name": "stdout",
     "output_type": "stream",
     "text": [
      "Proxima"
     ]
    }
   ],
   "source": [
    "search( '^Proxima', string, re.MULTILINE ) # Can only match pattern at the start of a line"
   ]
  },
  {
   "cell_type": "code",
   "execution_count": 14,
   "metadata": {},
   "outputs": [
    {
     "name": "stdout",
     "output_type": "stream",
     "text": [
      "system."
     ]
    }
   ],
   "source": [
    "search( 'system.$', string, re.MULTILINE ) # Can only match pattern at the end of a line"
   ]
  },
  {
   "cell_type": "markdown",
   "metadata": {},
   "source": [
    "(11) A <b>Backslah</b> <span style=\"color:blue; font-weight:bold\">\\\\</span> plus <span style=\"color:blue; font-weight:bold\">b</span> specifies a word* boundary. <br>\n",
    "(Double backslashes are used, because \"\\b\" is a special string character in Python.)"
   ]
  },
  {
   "cell_type": "code",
   "execution_count": 15,
   "metadata": {},
   "outputs": [
    {
     "name": "stdout",
     "output_type": "stream",
     "text": [
      "b, b"
     ]
    }
   ],
   "source": [
    "search( '\\\\bb\\\\b', string ) # Matches the word \"b\" (as in Centauri b), not words containing the letter \"b\""
   ]
  },
  {
   "cell_type": "markdown",
   "metadata": {},
   "source": [
    "*<b>Definition</b> of word in programming languages: Any\n",
    "sequence of digits, underscores, or letters.\n",
    "<hr>"
   ]
  },
  {
   "cell_type": "markdown",
   "metadata": {},
   "source": [
    "(12) A <b>Backslah</b> <span style=\"color:blue; font-weight:bold\">\\\\</span> plus <span style=\"color:blue; font-weight:bold\">B</span> specifies a word non-boundary. <br>"
   ]
  },
  {
   "cell_type": "code",
   "execution_count": 16,
   "metadata": {},
   "outputs": [
    {
     "name": "stdout",
     "output_type": "stream",
     "text": [
      "b, b, b"
     ]
    }
   ],
   "source": [
    "search( '\\\\Bb\\\\B', string ) # Matches words that contain the letter \"b\""
   ]
  },
  {
   "cell_type": "markdown",
   "metadata": {},
   "source": [
    "Note:"
   ]
  },
  {
   "cell_type": "code",
   "execution_count": 17,
   "metadata": {},
   "outputs": [
    {
     "name": "stdout",
     "output_type": "stream",
     "text": [
      "b, b, b, b, b"
     ]
    }
   ],
   "source": [
    "search( 'b', string ) # Result is example (11) + (12)"
   ]
  },
  {
   "cell_type": "markdown",
   "metadata": {},
   "source": [
    "(13) A <b>Pipe</b> <span style=\"color:blue; font-weight:bold\">|</span> specifies a disjunction."
   ]
  },
  {
   "cell_type": "code",
   "execution_count": 18,
   "metadata": {},
   "outputs": [
    {
     "name": "stdout",
     "output_type": "stream",
     "text": [
      "Centauri b, Centauri, Centaurus, Centauri b"
     ]
    }
   ],
   "source": [
    "search( 'Centauri b|Centauri|Centaurus', string ) # Matches \"Centauri b,\" \"Centauri\" or \"Centaurus\""
   ]
  },
  {
   "cell_type": "markdown",
   "metadata": {},
   "source": [
    "(14) <b>Paranthesis</b> <span style=\"color:blue; font-weight:bold\">( )</span> specifies precedence or a capture group."
   ]
  },
  {
   "cell_type": "code",
   "execution_count": 19,
   "metadata": {},
   "outputs": [
    {
     "name": "stdout",
     "output_type": "stream",
     "text": [
      "Centauri b, Centauri, Centaurus, Centauri b"
     ]
    }
   ],
   "source": [
    "search( 'Centaur(i b|i|us)', string ) # Equivalent to example (13)"
   ]
  },
  {
   "cell_type": "code",
   "execution_count": 20,
   "metadata": {},
   "outputs": [
    {
     "name": "stdout",
     "output_type": "stream",
     "text": [
      "4.2, 4.0, 10, 13, 24, 2016, 31"
     ]
    }
   ],
   "source": [
    "search( '[0-9]+(\\.[0-9]+)?', string ) # Matches one or more integers followed by an optional decimal value"
   ]
  },
  {
   "cell_type": "markdown",
   "metadata": {},
   "source": [
    "Capture group:"
   ]
  },
  {
   "cell_type": "code",
   "execution_count": 21,
   "metadata": {},
   "outputs": [
    {
     "name": "stdout",
     "output_type": "stream",
     "text": [
      "the closest star to the, the closest known exoplanets to the"
     ]
    }
   ],
   "source": [
    "                                  # Matches \"the\" followed by any string of characters followed by \"to the,\"\n",
    "search( '(the).*to \\\\1', string ) # where \"\\1\" denotes the first capture group"
   ]
  },
  {
   "cell_type": "markdown",
   "metadata": {},
   "source": [
    "(12) <b>Curly Braces</b> <span style=\"color:blue; font-weight:bold\">{ }</span> specify count."
   ]
  },
  {
   "cell_type": "code",
   "execution_count": 22,
   "metadata": {},
   "outputs": [
    {
     "name": "stdout",
     "output_type": "stream",
     "text": [
      "ProximaProxima"
     ]
    }
   ],
   "source": [
    "search( '(Proxima){2}', string ) # Matches exactly two occurences of \"Proxima\""
   ]
  },
  {
   "cell_type": "code",
   "execution_count": 23,
   "metadata": {},
   "outputs": [
    {
     "name": "stdout",
     "output_type": "stream",
     "text": [
      "ProximaProxima, Proxima, Proxima"
     ]
    }
   ],
   "source": [
    "search( '(Proxima){1,2}', string ) # Matches one or two occurences of \"Proxima\""
   ]
  },
  {
   "cell_type": "code",
   "execution_count": 24,
   "metadata": {},
   "outputs": [
    {
     "name": "stdout",
     "output_type": "stream",
     "text": [
      "ProximaProxima, Proxima, Proxima"
     ]
    }
   ],
   "source": [
    "search( '(Proxima){1,}', string ) # Matches at least one occurence of \"Proxima\""
   ]
  },
  {
   "cell_type": "markdown",
   "metadata": {},
   "source": [
    "(13) A <b>Question Mark</b> <span style=\"color:blue; font-weight:bold\">?</span> plus a counter (<span style=\"color:blue; font-weight:bold\">+</span>, <span style=\"color:blue; font-weight:bold\">*</span>) matches as little text as possible"
   ]
  },
  {
   "cell_type": "code",
   "execution_count": 25,
   "metadata": {},
   "outputs": [
    {
     "name": "stdout",
     "output_type": "stream",
     "text": [
      "Proxima, Proxima, Proxima, Proxima"
     ]
    }
   ],
   "source": [
    "search( '(Proxima)+?', string ) # Equivalent to search( 'Proxima', string )"
   ]
  },
  {
   "cell_type": "markdown",
   "metadata": {},
   "source": [
    "(14) <b>Substitution</b>"
   ]
  },
  {
   "cell_type": "code",
   "execution_count": 26,
   "metadata": {},
   "outputs": [
    {
     "data": {
      "text/plain": [
       "'Proxima Centauri b is an exoplanet orbiting in the habitable zone of the red dwarf star Proxima Centauri, \\nwhich is the closest star to the Sun and part of a triple star system.\\nIt is approximately 4.2 light-years (4.0x10^13 km) from Earth in the constellation Centaurus, \\nmaking it one of the closest known exoplanets to the Solar System.\\nOn 24 August 2016, a team of 31 scientists confirmed the existence of Proxima Centauri b.'"
      ]
     },
     "execution_count": 26,
     "metadata": {},
     "output_type": "execute_result"
    }
   ],
   "source": [
    "re.sub( '(Proxima){2}', 'Proxima', string ) # Substitutes the typo \"ProximaProxima\" with \"Proxima\""
   ]
  }
 ],
 "metadata": {
  "kernelspec": {
   "display_name": "Python 3",
   "language": "python",
   "name": "python3"
  },
  "language_info": {
   "codemirror_mode": {
    "name": "ipython",
    "version": 3
   },
   "file_extension": ".py",
   "mimetype": "text/x-python",
   "name": "python",
   "nbconvert_exporter": "python",
   "pygments_lexer": "ipython3",
   "version": "3.8.5"
  }
 },
 "nbformat": 4,
 "nbformat_minor": 4
}
